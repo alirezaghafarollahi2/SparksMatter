{
 "cells": [
  {
   "cell_type": "markdown",
   "id": "c1cfb98b-6358-4cfb-89f5-a6d1c3ec9245",
   "metadata": {},
   "source": [
    "# SparksMatter\n",
    "\n",
    "Alireza Ghafarollahi, Markus J. Buehler\n",
    "---"
   ]
  },
  {
   "cell_type": "markdown",
   "id": "f42156fd-9a4f-4284-89e2-17cce7fecaf2",
   "metadata": {},
   "source": [
    "## OpenAI and Materials Project API keys"
   ]
  },
  {
   "cell_type": "code",
   "execution_count": 1,
   "id": "0296f123-7af9-42be-b863-4bd96305fadb",
   "metadata": {},
   "outputs": [],
   "source": [
    "import os\n",
    "mp_api_key = \"\" \n",
    "OpenAI_key='sk-'\n",
    "os.environ['OPENAI_API_KEY']=OpenAI_key\n",
    "os.environ['MP_API_KEY']=mp_api_key"
   ]
  },
  {
   "cell_type": "markdown",
   "id": "97f077cb-edc1-41d0-88fe-67aeb22d148c",
   "metadata": {},
   "source": [
    "## Set a name for the project_folder where the agents chats, code, and results will be stored"
   ]
  },
  {
   "cell_type": "code",
   "execution_count": null,
   "id": "8a01e114-e2cc-465c-80f1-4eed64e4e1b0",
   "metadata": {},
   "outputs": [],
   "source": [
    "project_folder = 'project'\n",
    "os.environ[\"PROJECT_FOLDER\"] = os.path.abspath(project_folder)\n",
    "\n",
    "from SparksMatter.AgentsTools import *\n",
    "from SparksMatter.AgentsSystemMessage import *\n",
    "from SparksMatter.AgentsCreation import *"
   ]
  },
  {
   "cell_type": "markdown",
   "id": "e2455c57-1dc5-48f0-94b9-e752e24591a6",
   "metadata": {},
   "source": [
    "## Write your query for inorganic materials design."
   ]
  },
  {
   "cell_type": "code",
   "execution_count": null,
   "id": "299ec84b-4ad3-4215-85da-9d098637536a",
   "metadata": {},
   "outputs": [],
   "source": [
    "user_query = \"\"\"Discover new structural materials made entirely from earth-abundant and non-toxic elements with high mechanical strength (bulk modulus > 250 GPa).\"\"\"\n",
    "seed = 42\n",
    "run_Matter_idea(user_query, seed, project_folder)\n",
    "run_Matter_experiment(seed, project_folder)\n",
    "run_report(project_folder)"
   ]
  }
 ],
 "metadata": {
  "kernelspec": {
   "display_name": "Python 3 (ipykernel)",
   "language": "python",
   "name": "python3"
  },
  "language_info": {
   "codemirror_mode": {
    "name": "ipython",
    "version": 3
   },
   "file_extension": ".py",
   "mimetype": "text/x-python",
   "name": "python",
   "nbconvert_exporter": "python",
   "pygments_lexer": "ipython3",
   "version": "3.10.16"
  }
 },
 "nbformat": 4,
 "nbformat_minor": 5
}
